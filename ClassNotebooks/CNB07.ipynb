{
 "cells": [
  {
   "cell_type": "markdown",
   "id": "precise-institute",
   "metadata": {},
   "source": [
    "# Normal Curve Calculations and the $z$-Proportion Test"
   ]
  },
  {
   "cell_type": "markdown",
   "id": "unavailable-contemporary",
   "metadata": {},
   "source": [
    "The SAT has the distribution:\n",
    "\n",
    "$$N(1000, 200)$$\n",
    "\n",
    "while the ACT has the distribution:\n",
    "\n",
    "$$N(21,5)$$\n",
    "\n",
    "The classic IQ distribution has the distribution:\n",
    "\n",
    "$$N(100,15)$$"
   ]
  },
  {
   "cell_type": "markdown",
   "id": "owned-moses",
   "metadata": {},
   "source": [
    "## For every z-score we calculate, we can determine the precise percentile.\n",
    "\n",
    "For example, the percentile corresponding to a $z$-score of $z=2$ is given by:"
   ]
  },
  {
   "cell_type": "code",
   "execution_count": 4,
   "id": "abroad-street",
   "metadata": {},
   "outputs": [
    {
     "data": {
      "text/html": [
       "0.977249868051821"
      ],
      "text/latex": [
       "0.977249868051821"
      ],
      "text/markdown": [
       "0.977249868051821"
      ],
      "text/plain": [
       "[1] 0.9772499"
      ]
     },
     "metadata": {},
     "output_type": "display_data"
    }
   ],
   "source": [
    "pnorm(2)"
   ]
  },
  {
   "cell_type": "code",
   "execution_count": null,
   "id": "musical-albania",
   "metadata": {},
   "outputs": [],
   "source": []
  },
  {
   "cell_type": "code",
   "execution_count": null,
   "id": "taken-sunset",
   "metadata": {},
   "outputs": [],
   "source": []
  },
  {
   "cell_type": "code",
   "execution_count": null,
   "id": "functional-stupid",
   "metadata": {},
   "outputs": [],
   "source": []
  },
  {
   "cell_type": "code",
   "execution_count": null,
   "id": "accessible-mount",
   "metadata": {},
   "outputs": [],
   "source": []
  },
  {
   "cell_type": "code",
   "execution_count": null,
   "id": "convenient-permission",
   "metadata": {},
   "outputs": [],
   "source": []
  },
  {
   "cell_type": "code",
   "execution_count": null,
   "id": "conceptual-little",
   "metadata": {},
   "outputs": [],
   "source": []
  },
  {
   "cell_type": "code",
   "execution_count": null,
   "id": "agricultural-brother",
   "metadata": {},
   "outputs": [],
   "source": []
  },
  {
   "cell_type": "code",
   "execution_count": null,
   "id": "sophisticated-explorer",
   "metadata": {},
   "outputs": [],
   "source": []
  },
  {
   "cell_type": "code",
   "execution_count": null,
   "id": "driven-option",
   "metadata": {},
   "outputs": [],
   "source": []
  },
  {
   "cell_type": "code",
   "execution_count": null,
   "id": "domestic-danger",
   "metadata": {},
   "outputs": [],
   "source": []
  },
  {
   "cell_type": "code",
   "execution_count": null,
   "id": "selected-paragraph",
   "metadata": {},
   "outputs": [],
   "source": []
  },
  {
   "cell_type": "markdown",
   "id": "recent-thread",
   "metadata": {},
   "source": [
    "## Dolphins and the Proportion Test in R"
   ]
  },
  {
   "cell_type": "code",
   "execution_count": 6,
   "id": "rapid-fruit",
   "metadata": {},
   "outputs": [
    {
     "data": {
      "text/html": [
       "<table>\n",
       "<caption>A data.frame: 30 × 2</caption>\n",
       "<thead>\n",
       "\t<tr><th scope=col>Treatment</th><th scope=col>Result</th></tr>\n",
       "\t<tr><th scope=col>&lt;chr&gt;</th><th scope=col>&lt;chr&gt;</th></tr>\n",
       "</thead>\n",
       "<tbody>\n",
       "\t<tr><td>Dolphins</td><td>Improved</td></tr>\n",
       "\t<tr><td>Dolphins</td><td>Improved</td></tr>\n",
       "\t<tr><td>Dolphins</td><td>Improved</td></tr>\n",
       "\t<tr><td>Dolphins</td><td>Improved</td></tr>\n",
       "\t<tr><td>Dolphins</td><td>Improved</td></tr>\n",
       "\t<tr><td>Dolphins</td><td>Improved</td></tr>\n",
       "\t<tr><td>Dolphins</td><td>Improved</td></tr>\n",
       "\t<tr><td>Dolphins</td><td>Improved</td></tr>\n",
       "\t<tr><td>Dolphins</td><td>Improved</td></tr>\n",
       "\t<tr><td>Dolphins</td><td>Improved</td></tr>\n",
       "\t<tr><td>Dolphins</td><td>Did Not </td></tr>\n",
       "\t<tr><td>Dolphins</td><td>Did Not </td></tr>\n",
       "\t<tr><td>Dolphins</td><td>Did Not </td></tr>\n",
       "\t<tr><td>Dolphins</td><td>Did Not </td></tr>\n",
       "\t<tr><td>Dolphins</td><td>Did Not </td></tr>\n",
       "\t<tr><td>Control </td><td>Improved</td></tr>\n",
       "\t<tr><td>Control </td><td>Improved</td></tr>\n",
       "\t<tr><td>Control </td><td>Improved</td></tr>\n",
       "\t<tr><td>Control </td><td>Did Not </td></tr>\n",
       "\t<tr><td>Control </td><td>Did Not </td></tr>\n",
       "\t<tr><td>Control </td><td>Did Not </td></tr>\n",
       "\t<tr><td>Control </td><td>Did Not </td></tr>\n",
       "\t<tr><td>Control </td><td>Did Not </td></tr>\n",
       "\t<tr><td>Control </td><td>Did Not </td></tr>\n",
       "\t<tr><td>Control </td><td>Did Not </td></tr>\n",
       "\t<tr><td>Control </td><td>Did Not </td></tr>\n",
       "\t<tr><td>Control </td><td>Did Not </td></tr>\n",
       "\t<tr><td>Control </td><td>Did Not </td></tr>\n",
       "\t<tr><td>Control </td><td>Did Not </td></tr>\n",
       "\t<tr><td>Control </td><td>Did Not </td></tr>\n",
       "</tbody>\n",
       "</table>\n"
      ],
      "text/latex": [
       "A data.frame: 30 × 2\n",
       "\\begin{tabular}{ll}\n",
       " Treatment & Result\\\\\n",
       " <chr> & <chr>\\\\\n",
       "\\hline\n",
       "\t Dolphins & Improved\\\\\n",
       "\t Dolphins & Improved\\\\\n",
       "\t Dolphins & Improved\\\\\n",
       "\t Dolphins & Improved\\\\\n",
       "\t Dolphins & Improved\\\\\n",
       "\t Dolphins & Improved\\\\\n",
       "\t Dolphins & Improved\\\\\n",
       "\t Dolphins & Improved\\\\\n",
       "\t Dolphins & Improved\\\\\n",
       "\t Dolphins & Improved\\\\\n",
       "\t Dolphins & Did Not \\\\\n",
       "\t Dolphins & Did Not \\\\\n",
       "\t Dolphins & Did Not \\\\\n",
       "\t Dolphins & Did Not \\\\\n",
       "\t Dolphins & Did Not \\\\\n",
       "\t Control  & Improved\\\\\n",
       "\t Control  & Improved\\\\\n",
       "\t Control  & Improved\\\\\n",
       "\t Control  & Did Not \\\\\n",
       "\t Control  & Did Not \\\\\n",
       "\t Control  & Did Not \\\\\n",
       "\t Control  & Did Not \\\\\n",
       "\t Control  & Did Not \\\\\n",
       "\t Control  & Did Not \\\\\n",
       "\t Control  & Did Not \\\\\n",
       "\t Control  & Did Not \\\\\n",
       "\t Control  & Did Not \\\\\n",
       "\t Control  & Did Not \\\\\n",
       "\t Control  & Did Not \\\\\n",
       "\t Control  & Did Not \\\\\n",
       "\\end{tabular}\n"
      ],
      "text/markdown": [
       "\n",
       "A data.frame: 30 × 2\n",
       "\n",
       "| Treatment &lt;chr&gt; | Result &lt;chr&gt; |\n",
       "|---|---|\n",
       "| Dolphins | Improved |\n",
       "| Dolphins | Improved |\n",
       "| Dolphins | Improved |\n",
       "| Dolphins | Improved |\n",
       "| Dolphins | Improved |\n",
       "| Dolphins | Improved |\n",
       "| Dolphins | Improved |\n",
       "| Dolphins | Improved |\n",
       "| Dolphins | Improved |\n",
       "| Dolphins | Improved |\n",
       "| Dolphins | Did Not  |\n",
       "| Dolphins | Did Not  |\n",
       "| Dolphins | Did Not  |\n",
       "| Dolphins | Did Not  |\n",
       "| Dolphins | Did Not  |\n",
       "| Control  | Improved |\n",
       "| Control  | Improved |\n",
       "| Control  | Improved |\n",
       "| Control  | Did Not  |\n",
       "| Control  | Did Not  |\n",
       "| Control  | Did Not  |\n",
       "| Control  | Did Not  |\n",
       "| Control  | Did Not  |\n",
       "| Control  | Did Not  |\n",
       "| Control  | Did Not  |\n",
       "| Control  | Did Not  |\n",
       "| Control  | Did Not  |\n",
       "| Control  | Did Not  |\n",
       "| Control  | Did Not  |\n",
       "| Control  | Did Not  |\n",
       "\n"
      ],
      "text/plain": [
       "   Treatment Result  \n",
       "1  Dolphins  Improved\n",
       "2  Dolphins  Improved\n",
       "3  Dolphins  Improved\n",
       "4  Dolphins  Improved\n",
       "5  Dolphins  Improved\n",
       "6  Dolphins  Improved\n",
       "7  Dolphins  Improved\n",
       "8  Dolphins  Improved\n",
       "9  Dolphins  Improved\n",
       "10 Dolphins  Improved\n",
       "11 Dolphins  Did Not \n",
       "12 Dolphins  Did Not \n",
       "13 Dolphins  Did Not \n",
       "14 Dolphins  Did Not \n",
       "15 Dolphins  Did Not \n",
       "16 Control   Improved\n",
       "17 Control   Improved\n",
       "18 Control   Improved\n",
       "19 Control   Did Not \n",
       "20 Control   Did Not \n",
       "21 Control   Did Not \n",
       "22 Control   Did Not \n",
       "23 Control   Did Not \n",
       "24 Control   Did Not \n",
       "25 Control   Did Not \n",
       "26 Control   Did Not \n",
       "27 Control   Did Not \n",
       "28 Control   Did Not \n",
       "29 Control   Did Not \n",
       "30 Control   Did Not "
      ]
     },
     "metadata": {},
     "output_type": "display_data"
    }
   ],
   "source": [
    "dolphin <- read.csv('http://faculty.ung.edu/rsinn/data/dolphin.csv')\n",
    "dolphin"
   ]
  },
  {
   "cell_type": "code",
   "execution_count": 15,
   "id": "signal-teaching",
   "metadata": {},
   "outputs": [
    {
     "data": {
      "text/plain": [
       "                 dolphin$Result\n",
       "dolphin$Treatment Did Not Improved\n",
       "         Control       12        3\n",
       "         Dolphins       5       10"
      ]
     },
     "metadata": {},
     "output_type": "display_data"
    }
   ],
   "source": [
    "xtabs(~dolphin$Treatment + dolphin$Result)"
   ]
  },
  {
   "cell_type": "code",
   "execution_count": null,
   "id": "settled-stocks",
   "metadata": {},
   "outputs": [],
   "source": []
  }
 ],
 "metadata": {
  "kernelspec": {
   "display_name": "R",
   "language": "R",
   "name": "ir"
  },
  "language_info": {
   "codemirror_mode": "r",
   "file_extension": ".r",
   "mimetype": "text/x-r-source",
   "name": "R",
   "pygments_lexer": "r",
   "version": "4.0.3"
  }
 },
 "nbformat": 4,
 "nbformat_minor": 5
}
